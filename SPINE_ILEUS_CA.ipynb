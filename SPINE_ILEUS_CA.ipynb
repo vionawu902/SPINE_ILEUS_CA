{
 "cells": [
  {
   "cell_type": "code",
   "execution_count": 1,
   "metadata": {
    "collapsed": false
   },
   "outputs": [],
   "source": [
    "import os\n",
    "import numpy as np\n",
    "import pandas as pd\n",
    "import matplotlib.pyplot as plt\n",
    "from statsmodels.stats import proportion\n",
    "from scipy import stats\n",
    "%matplotlib inline\n",
    "os.chdir('/Users/YuChen/Desktop/loyola') # for mac \n",
    "#os.chdir('C:\\\\Users\\\\YuChen\\\\Desktop\\\\loyola') for windows"
   ]
  },
  {
   "cell_type": "code",
   "execution_count": 2,
   "metadata": {
    "collapsed": false
   },
   "outputs": [],
   "source": [
    "CAData = pd.read_stata('SPINE_ILEUS_CA_REVISED.dta')"
   ]
  },
  {
   "cell_type": "markdown",
   "metadata": {
    "collapsed": true
   },
   "source": [
    "## Reading the data"
   ]
  },
  {
   "cell_type": "code",
   "execution_count": 3,
   "metadata": {
    "collapsed": false
   },
   "outputs": [],
   "source": [
    "varLst = ['ACDF','CLAM','SHORT','LONG','ALIF','PLIF','LOS','COMBINED','COMBINED_SHORT','COMBINED_LONG',\n",
    "          'ileus_NPOA','SHORT_ILEUS',\n",
    "          'LONG_ILEUS','ALIF_ILEUS','PLIF_ILEUS', 'DIED', 'MI_NPOA',\n",
    "           'Sepsis_NPOA', 'PE_NPOA','ACDF_ILEUS','CLAM_ILEUS','COMBINED_ILEUS','COMBINED_SHORT_ILEUS','COMBINED_LONG_ILEUS']\n",
    "\n",
    "CAData = pd.read_stata('SPINE_ILEUS_CA_REVISED.dta', columns=varLst)"
   ]
  },
  {
   "cell_type": "code",
   "execution_count": 4,
   "metadata": {
    "collapsed": false
   },
   "outputs": [
    {
     "name": "stderr",
     "output_type": "stream",
     "text": [
      "/Users/YuChen/Downloads/Softwares/anaconda/lib/python2.7/site-packages/numpy/lib/function_base.py:3834: RuntimeWarning: Invalid value encountered in percentile\n",
      "  RuntimeWarning)\n"
     ]
    },
    {
     "data": {
      "text/html": [
       "<div>\n",
       "<table border=\"1\" class=\"dataframe\">\n",
       "  <thead>\n",
       "    <tr style=\"text-align: right;\">\n",
       "      <th></th>\n",
       "      <th>ACDF</th>\n",
       "      <th>CLAM</th>\n",
       "      <th>SHORT</th>\n",
       "      <th>LONG</th>\n",
       "      <th>ALIF</th>\n",
       "      <th>PLIF</th>\n",
       "      <th>LOS</th>\n",
       "      <th>COMBINED</th>\n",
       "      <th>COMBINED_SHORT</th>\n",
       "      <th>COMBINED_LONG</th>\n",
       "      <th>...</th>\n",
       "      <th>PLIF_ILEUS</th>\n",
       "      <th>DIED</th>\n",
       "      <th>MI_NPOA</th>\n",
       "      <th>Sepsis_NPOA</th>\n",
       "      <th>PE_NPOA</th>\n",
       "      <th>ACDF_ILEUS</th>\n",
       "      <th>CLAM_ILEUS</th>\n",
       "      <th>COMBINED_ILEUS</th>\n",
       "      <th>COMBINED_SHORT_ILEUS</th>\n",
       "      <th>COMBINED_LONG_ILEUS</th>\n",
       "    </tr>\n",
       "  </thead>\n",
       "  <tbody>\n",
       "    <tr>\n",
       "      <th>count</th>\n",
       "      <td>345067.000000</td>\n",
       "      <td>345067.000000</td>\n",
       "      <td>345067.000000</td>\n",
       "      <td>345067.000000</td>\n",
       "      <td>345067.000000</td>\n",
       "      <td>345067.000000</td>\n",
       "      <td>345010.000000</td>\n",
       "      <td>345067.000000</td>\n",
       "      <td>345067.000000</td>\n",
       "      <td>345067.000000</td>\n",
       "      <td>...</td>\n",
       "      <td>345067.000000</td>\n",
       "      <td>345045.000000</td>\n",
       "      <td>345067.000000</td>\n",
       "      <td>345067.000000</td>\n",
       "      <td>345067.0</td>\n",
       "      <td>345067.000000</td>\n",
       "      <td>345067.000000</td>\n",
       "      <td>345067.000000</td>\n",
       "      <td>345067.000000</td>\n",
       "      <td>345067.000000</td>\n",
       "    </tr>\n",
       "    <tr>\n",
       "      <th>mean</th>\n",
       "      <td>0.195733</td>\n",
       "      <td>0.043823</td>\n",
       "      <td>0.459282</td>\n",
       "      <td>0.121730</td>\n",
       "      <td>0.084940</td>\n",
       "      <td>0.061374</td>\n",
       "      <td>7.709695</td>\n",
       "      <td>0.010923</td>\n",
       "      <td>0.074049</td>\n",
       "      <td>0.014551</td>\n",
       "      <td>...</td>\n",
       "      <td>0.002292</td>\n",
       "      <td>0.033816</td>\n",
       "      <td>0.008416</td>\n",
       "      <td>0.044522</td>\n",
       "      <td>0.0</td>\n",
       "      <td>0.000606</td>\n",
       "      <td>0.000484</td>\n",
       "      <td>0.001078</td>\n",
       "      <td>0.005373</td>\n",
       "      <td>0.001837</td>\n",
       "    </tr>\n",
       "    <tr>\n",
       "      <th>std</th>\n",
       "      <td>0.397012</td>\n",
       "      <td>0.204741</td>\n",
       "      <td>0.498372</td>\n",
       "      <td>0.327466</td>\n",
       "      <td>0.279424</td>\n",
       "      <td>0.240172</td>\n",
       "      <td>79.797306</td>\n",
       "      <td>0.103546</td>\n",
       "      <td>0.262318</td>\n",
       "      <td>0.119164</td>\n",
       "      <td>...</td>\n",
       "      <td>0.047785</td>\n",
       "      <td>0.193980</td>\n",
       "      <td>0.091449</td>\n",
       "      <td>0.206195</td>\n",
       "      <td>0.0</td>\n",
       "      <td>0.024598</td>\n",
       "      <td>0.021989</td>\n",
       "      <td>0.032803</td>\n",
       "      <td>0.072964</td>\n",
       "      <td>0.042796</td>\n",
       "    </tr>\n",
       "    <tr>\n",
       "      <th>min</th>\n",
       "      <td>0.000000</td>\n",
       "      <td>0.000000</td>\n",
       "      <td>0.000000</td>\n",
       "      <td>0.000000</td>\n",
       "      <td>0.000000</td>\n",
       "      <td>0.000000</td>\n",
       "      <td>-6666.000000</td>\n",
       "      <td>0.000000</td>\n",
       "      <td>0.000000</td>\n",
       "      <td>0.000000</td>\n",
       "      <td>...</td>\n",
       "      <td>0.000000</td>\n",
       "      <td>-9.000000</td>\n",
       "      <td>0.000000</td>\n",
       "      <td>0.000000</td>\n",
       "      <td>0.0</td>\n",
       "      <td>0.000000</td>\n",
       "      <td>0.000000</td>\n",
       "      <td>0.000000</td>\n",
       "      <td>0.000000</td>\n",
       "      <td>0.000000</td>\n",
       "    </tr>\n",
       "    <tr>\n",
       "      <th>25%</th>\n",
       "      <td>0.000000</td>\n",
       "      <td>0.000000</td>\n",
       "      <td>0.000000</td>\n",
       "      <td>0.000000</td>\n",
       "      <td>0.000000</td>\n",
       "      <td>0.000000</td>\n",
       "      <td>NaN</td>\n",
       "      <td>0.000000</td>\n",
       "      <td>0.000000</td>\n",
       "      <td>0.000000</td>\n",
       "      <td>...</td>\n",
       "      <td>0.000000</td>\n",
       "      <td>NaN</td>\n",
       "      <td>0.000000</td>\n",
       "      <td>0.000000</td>\n",
       "      <td>0.0</td>\n",
       "      <td>0.000000</td>\n",
       "      <td>0.000000</td>\n",
       "      <td>0.000000</td>\n",
       "      <td>0.000000</td>\n",
       "      <td>0.000000</td>\n",
       "    </tr>\n",
       "    <tr>\n",
       "      <th>50%</th>\n",
       "      <td>0.000000</td>\n",
       "      <td>0.000000</td>\n",
       "      <td>0.000000</td>\n",
       "      <td>0.000000</td>\n",
       "      <td>0.000000</td>\n",
       "      <td>0.000000</td>\n",
       "      <td>NaN</td>\n",
       "      <td>0.000000</td>\n",
       "      <td>0.000000</td>\n",
       "      <td>0.000000</td>\n",
       "      <td>...</td>\n",
       "      <td>0.000000</td>\n",
       "      <td>NaN</td>\n",
       "      <td>0.000000</td>\n",
       "      <td>0.000000</td>\n",
       "      <td>0.0</td>\n",
       "      <td>0.000000</td>\n",
       "      <td>0.000000</td>\n",
       "      <td>0.000000</td>\n",
       "      <td>0.000000</td>\n",
       "      <td>0.000000</td>\n",
       "    </tr>\n",
       "    <tr>\n",
       "      <th>75%</th>\n",
       "      <td>0.000000</td>\n",
       "      <td>0.000000</td>\n",
       "      <td>1.000000</td>\n",
       "      <td>0.000000</td>\n",
       "      <td>0.000000</td>\n",
       "      <td>0.000000</td>\n",
       "      <td>NaN</td>\n",
       "      <td>0.000000</td>\n",
       "      <td>0.000000</td>\n",
       "      <td>0.000000</td>\n",
       "      <td>...</td>\n",
       "      <td>0.000000</td>\n",
       "      <td>NaN</td>\n",
       "      <td>0.000000</td>\n",
       "      <td>0.000000</td>\n",
       "      <td>0.0</td>\n",
       "      <td>0.000000</td>\n",
       "      <td>0.000000</td>\n",
       "      <td>0.000000</td>\n",
       "      <td>0.000000</td>\n",
       "      <td>0.000000</td>\n",
       "    </tr>\n",
       "    <tr>\n",
       "      <th>max</th>\n",
       "      <td>1.000000</td>\n",
       "      <td>1.000000</td>\n",
       "      <td>1.000000</td>\n",
       "      <td>1.000000</td>\n",
       "      <td>1.000000</td>\n",
       "      <td>1.000000</td>\n",
       "      <td>358.000000</td>\n",
       "      <td>1.000000</td>\n",
       "      <td>1.000000</td>\n",
       "      <td>1.000000</td>\n",
       "      <td>...</td>\n",
       "      <td>1.000000</td>\n",
       "      <td>1.000000</td>\n",
       "      <td>1.000000</td>\n",
       "      <td>1.000000</td>\n",
       "      <td>0.0</td>\n",
       "      <td>1.000000</td>\n",
       "      <td>1.000000</td>\n",
       "      <td>1.000000</td>\n",
       "      <td>1.000000</td>\n",
       "      <td>1.000000</td>\n",
       "    </tr>\n",
       "  </tbody>\n",
       "</table>\n",
       "<p>8 rows × 24 columns</p>\n",
       "</div>"
      ],
      "text/plain": [
       "                ACDF           CLAM          SHORT           LONG  \\\n",
       "count  345067.000000  345067.000000  345067.000000  345067.000000   \n",
       "mean        0.195733       0.043823       0.459282       0.121730   \n",
       "std         0.397012       0.204741       0.498372       0.327466   \n",
       "min         0.000000       0.000000       0.000000       0.000000   \n",
       "25%         0.000000       0.000000       0.000000       0.000000   \n",
       "50%         0.000000       0.000000       0.000000       0.000000   \n",
       "75%         0.000000       0.000000       1.000000       0.000000   \n",
       "max         1.000000       1.000000       1.000000       1.000000   \n",
       "\n",
       "                ALIF           PLIF            LOS       COMBINED  \\\n",
       "count  345067.000000  345067.000000  345010.000000  345067.000000   \n",
       "mean        0.084940       0.061374       7.709695       0.010923   \n",
       "std         0.279424       0.240172      79.797306       0.103546   \n",
       "min         0.000000       0.000000   -6666.000000       0.000000   \n",
       "25%         0.000000       0.000000            NaN       0.000000   \n",
       "50%         0.000000       0.000000            NaN       0.000000   \n",
       "75%         0.000000       0.000000            NaN       0.000000   \n",
       "max         1.000000       1.000000     358.000000       1.000000   \n",
       "\n",
       "       COMBINED_SHORT  COMBINED_LONG         ...              PLIF_ILEUS  \\\n",
       "count   345067.000000  345067.000000         ...           345067.000000   \n",
       "mean         0.074049       0.014551         ...                0.002292   \n",
       "std          0.262318       0.119164         ...                0.047785   \n",
       "min          0.000000       0.000000         ...                0.000000   \n",
       "25%          0.000000       0.000000         ...                0.000000   \n",
       "50%          0.000000       0.000000         ...                0.000000   \n",
       "75%          0.000000       0.000000         ...                0.000000   \n",
       "max          1.000000       1.000000         ...                1.000000   \n",
       "\n",
       "                DIED        MI_NPOA    Sepsis_NPOA   PE_NPOA     ACDF_ILEUS  \\\n",
       "count  345045.000000  345067.000000  345067.000000  345067.0  345067.000000   \n",
       "mean        0.033816       0.008416       0.044522       0.0       0.000606   \n",
       "std         0.193980       0.091449       0.206195       0.0       0.024598   \n",
       "min        -9.000000       0.000000       0.000000       0.0       0.000000   \n",
       "25%              NaN       0.000000       0.000000       0.0       0.000000   \n",
       "50%              NaN       0.000000       0.000000       0.0       0.000000   \n",
       "75%              NaN       0.000000       0.000000       0.0       0.000000   \n",
       "max         1.000000       1.000000       1.000000       0.0       1.000000   \n",
       "\n",
       "          CLAM_ILEUS  COMBINED_ILEUS  COMBINED_SHORT_ILEUS  \\\n",
       "count  345067.000000   345067.000000         345067.000000   \n",
       "mean        0.000484        0.001078              0.005373   \n",
       "std         0.021989        0.032803              0.072964   \n",
       "min         0.000000        0.000000              0.000000   \n",
       "25%         0.000000        0.000000              0.000000   \n",
       "50%         0.000000        0.000000              0.000000   \n",
       "75%         0.000000        0.000000              0.000000   \n",
       "max         1.000000        1.000000              1.000000   \n",
       "\n",
       "       COMBINED_LONG_ILEUS  \n",
       "count        345067.000000  \n",
       "mean              0.001837  \n",
       "std               0.042796  \n",
       "min               0.000000  \n",
       "25%               0.000000  \n",
       "50%               0.000000  \n",
       "75%               0.000000  \n",
       "max               1.000000  \n",
       "\n",
       "[8 rows x 24 columns]"
      ]
     },
     "execution_count": 4,
     "metadata": {},
     "output_type": "execute_result"
    }
   ],
   "source": [
    "CAData.describe()"
   ]
  },
  {
   "cell_type": "code",
   "execution_count": 5,
   "metadata": {
    "collapsed": false
   },
   "outputs": [
    {
     "data": {
      "text/html": [
       "<div>\n",
       "<table border=\"1\" class=\"dataframe\">\n",
       "  <thead>\n",
       "    <tr style=\"text-align: right;\">\n",
       "      <th></th>\n",
       "      <th>ACDF</th>\n",
       "      <th>CLAM</th>\n",
       "      <th>SHORT</th>\n",
       "      <th>LONG</th>\n",
       "      <th>ALIF</th>\n",
       "      <th>PLIF</th>\n",
       "      <th>LOS</th>\n",
       "      <th>COMBINED</th>\n",
       "      <th>COMBINED_SHORT</th>\n",
       "      <th>COMBINED_LONG</th>\n",
       "      <th>...</th>\n",
       "      <th>PLIF_ILEUS</th>\n",
       "      <th>DIED</th>\n",
       "      <th>MI_NPOA</th>\n",
       "      <th>Sepsis_NPOA</th>\n",
       "      <th>PE_NPOA</th>\n",
       "      <th>ACDF_ILEUS</th>\n",
       "      <th>CLAM_ILEUS</th>\n",
       "      <th>COMBINED_ILEUS</th>\n",
       "      <th>COMBINED_SHORT_ILEUS</th>\n",
       "      <th>COMBINED_LONG_ILEUS</th>\n",
       "    </tr>\n",
       "  </thead>\n",
       "  <tbody>\n",
       "    <tr>\n",
       "      <th>0</th>\n",
       "      <td>0.0</td>\n",
       "      <td>1.0</td>\n",
       "      <td>1.0</td>\n",
       "      <td>0.0</td>\n",
       "      <td>0.0</td>\n",
       "      <td>0.0</td>\n",
       "      <td>15.0</td>\n",
       "      <td>0.0</td>\n",
       "      <td>0.0</td>\n",
       "      <td>0.0</td>\n",
       "      <td>...</td>\n",
       "      <td>0.0</td>\n",
       "      <td>0.0</td>\n",
       "      <td>0.0</td>\n",
       "      <td>0.0</td>\n",
       "      <td>0.0</td>\n",
       "      <td>0.0</td>\n",
       "      <td>0.0</td>\n",
       "      <td>0.0</td>\n",
       "      <td>0.0</td>\n",
       "      <td>0.0</td>\n",
       "    </tr>\n",
       "    <tr>\n",
       "      <th>1</th>\n",
       "      <td>1.0</td>\n",
       "      <td>0.0</td>\n",
       "      <td>1.0</td>\n",
       "      <td>0.0</td>\n",
       "      <td>0.0</td>\n",
       "      <td>0.0</td>\n",
       "      <td>16.0</td>\n",
       "      <td>0.0</td>\n",
       "      <td>0.0</td>\n",
       "      <td>0.0</td>\n",
       "      <td>...</td>\n",
       "      <td>0.0</td>\n",
       "      <td>0.0</td>\n",
       "      <td>0.0</td>\n",
       "      <td>0.0</td>\n",
       "      <td>0.0</td>\n",
       "      <td>0.0</td>\n",
       "      <td>0.0</td>\n",
       "      <td>0.0</td>\n",
       "      <td>0.0</td>\n",
       "      <td>0.0</td>\n",
       "    </tr>\n",
       "    <tr>\n",
       "      <th>2</th>\n",
       "      <td>0.0</td>\n",
       "      <td>0.0</td>\n",
       "      <td>0.0</td>\n",
       "      <td>0.0</td>\n",
       "      <td>0.0</td>\n",
       "      <td>0.0</td>\n",
       "      <td>7.0</td>\n",
       "      <td>0.0</td>\n",
       "      <td>0.0</td>\n",
       "      <td>0.0</td>\n",
       "      <td>...</td>\n",
       "      <td>0.0</td>\n",
       "      <td>0.0</td>\n",
       "      <td>0.0</td>\n",
       "      <td>0.0</td>\n",
       "      <td>0.0</td>\n",
       "      <td>0.0</td>\n",
       "      <td>0.0</td>\n",
       "      <td>0.0</td>\n",
       "      <td>0.0</td>\n",
       "      <td>0.0</td>\n",
       "    </tr>\n",
       "    <tr>\n",
       "      <th>3</th>\n",
       "      <td>0.0</td>\n",
       "      <td>0.0</td>\n",
       "      <td>0.0</td>\n",
       "      <td>0.0</td>\n",
       "      <td>0.0</td>\n",
       "      <td>0.0</td>\n",
       "      <td>13.0</td>\n",
       "      <td>0.0</td>\n",
       "      <td>0.0</td>\n",
       "      <td>0.0</td>\n",
       "      <td>...</td>\n",
       "      <td>0.0</td>\n",
       "      <td>1.0</td>\n",
       "      <td>0.0</td>\n",
       "      <td>0.0</td>\n",
       "      <td>0.0</td>\n",
       "      <td>0.0</td>\n",
       "      <td>0.0</td>\n",
       "      <td>0.0</td>\n",
       "      <td>0.0</td>\n",
       "      <td>0.0</td>\n",
       "    </tr>\n",
       "    <tr>\n",
       "      <th>4</th>\n",
       "      <td>1.0</td>\n",
       "      <td>0.0</td>\n",
       "      <td>1.0</td>\n",
       "      <td>0.0</td>\n",
       "      <td>0.0</td>\n",
       "      <td>0.0</td>\n",
       "      <td>18.0</td>\n",
       "      <td>0.0</td>\n",
       "      <td>0.0</td>\n",
       "      <td>0.0</td>\n",
       "      <td>...</td>\n",
       "      <td>0.0</td>\n",
       "      <td>0.0</td>\n",
       "      <td>0.0</td>\n",
       "      <td>0.0</td>\n",
       "      <td>0.0</td>\n",
       "      <td>0.0</td>\n",
       "      <td>0.0</td>\n",
       "      <td>0.0</td>\n",
       "      <td>0.0</td>\n",
       "      <td>0.0</td>\n",
       "    </tr>\n",
       "  </tbody>\n",
       "</table>\n",
       "<p>5 rows × 24 columns</p>\n",
       "</div>"
      ],
      "text/plain": [
       "   ACDF  CLAM  SHORT  LONG  ALIF  PLIF   LOS  COMBINED  COMBINED_SHORT  \\\n",
       "0   0.0   1.0    1.0   0.0   0.0   0.0  15.0       0.0             0.0   \n",
       "1   1.0   0.0    1.0   0.0   0.0   0.0  16.0       0.0             0.0   \n",
       "2   0.0   0.0    0.0   0.0   0.0   0.0   7.0       0.0             0.0   \n",
       "3   0.0   0.0    0.0   0.0   0.0   0.0  13.0       0.0             0.0   \n",
       "4   1.0   0.0    1.0   0.0   0.0   0.0  18.0       0.0             0.0   \n",
       "\n",
       "   COMBINED_LONG         ...           PLIF_ILEUS  DIED  MI_NPOA  Sepsis_NPOA  \\\n",
       "0            0.0         ...                  0.0   0.0      0.0          0.0   \n",
       "1            0.0         ...                  0.0   0.0      0.0          0.0   \n",
       "2            0.0         ...                  0.0   0.0      0.0          0.0   \n",
       "3            0.0         ...                  0.0   1.0      0.0          0.0   \n",
       "4            0.0         ...                  0.0   0.0      0.0          0.0   \n",
       "\n",
       "   PE_NPOA  ACDF_ILEUS  CLAM_ILEUS  COMBINED_ILEUS  COMBINED_SHORT_ILEUS  \\\n",
       "0      0.0         0.0         0.0             0.0                   0.0   \n",
       "1      0.0         0.0         0.0             0.0                   0.0   \n",
       "2      0.0         0.0         0.0             0.0                   0.0   \n",
       "3      0.0         0.0         0.0             0.0                   0.0   \n",
       "4      0.0         0.0         0.0             0.0                   0.0   \n",
       "\n",
       "   COMBINED_LONG_ILEUS  \n",
       "0                  0.0  \n",
       "1                  0.0  \n",
       "2                  0.0  \n",
       "3                  0.0  \n",
       "4                  0.0  \n",
       "\n",
       "[5 rows x 24 columns]"
      ]
     },
     "execution_count": 5,
     "metadata": {},
     "output_type": "execute_result"
    }
   ],
   "source": [
    "CAData.head(5)"
   ]
  },
  {
   "cell_type": "markdown",
   "metadata": {
    "collapsed": false
   },
   "source": [
    "## Processing the data:"
   ]
  },
  {
   "cell_type": "markdown",
   "metadata": {
    "collapsed": true
   },
   "source": [
    "### 1. Finding NA values"
   ]
  },
  {
   "cell_type": "code",
   "execution_count": 6,
   "metadata": {
    "collapsed": false
   },
   "outputs": [
    {
     "data": {
      "text/plain": [
       "array([ 0,  0,  0,  0,  0,  0, 57,  0,  0,  0,  0,  0,  0,  0,  0, 22,  0,\n",
       "        0,  0,  0,  0,  0,  0,  0])"
      ]
     },
     "execution_count": 6,
     "metadata": {},
     "output_type": "execute_result"
    }
   ],
   "source": [
    "np.sum(np.array(pd.isnull(CAData)),0)"
   ]
  },
  {
   "cell_type": "markdown",
   "metadata": {
    "collapsed": true
   },
   "source": [
    "### 2. Finding negative values"
   ]
  },
  {
   "cell_type": "code",
   "execution_count": 7,
   "metadata": {
    "collapsed": false
   },
   "outputs": [
    {
     "data": {
      "text/plain": [
       "array([ 0,  0,  0,  0,  0,  0, 48,  0,  0,  0,  0,  0,  0,  0,  0, 19,  0,\n",
       "        0,  0,  0,  0,  0,  0,  0])"
      ]
     },
     "execution_count": 7,
     "metadata": {},
     "output_type": "execute_result"
    }
   ],
   "source": [
    "np.sum(np.array(CAData < 0), 0)"
   ]
  },
  {
   "cell_type": "markdown",
   "metadata": {
    "collapsed": true
   },
   "source": [
    "### 3. Finding patients who length of stay (LOS) is 1 day or less"
   ]
  },
  {
   "cell_type": "code",
   "execution_count": 8,
   "metadata": {
    "collapsed": false
   },
   "outputs": [
    {
     "data": {
      "text/plain": [
       "36850"
      ]
     },
     "execution_count": 8,
     "metadata": {},
     "output_type": "execute_result"
    }
   ],
   "source": [
    "np.sum(np.array(CAData.LOS<=1),0)"
   ]
  },
  {
   "cell_type": "markdown",
   "metadata": {
    "collapsed": true
   },
   "source": [
    "## Cleaning data:"
   ]
  },
  {
   "cell_type": "code",
   "execution_count": 9,
   "metadata": {
    "collapsed": false
   },
   "outputs": [],
   "source": [
    "for feature in CAData.columns: \n",
    "    CAData = CAData[CAData[feature] >= 0]"
   ]
  },
  {
   "cell_type": "code",
   "execution_count": 10,
   "metadata": {
    "collapsed": true
   },
   "outputs": [],
   "source": [
    "CAData = CAData[CAData['LOS'] > 1]"
   ]
  },
  {
   "cell_type": "code",
   "execution_count": 11,
   "metadata": {
    "collapsed": false
   },
   "outputs": [
    {
     "data": {
      "text/plain": [
       "(308119, 24)"
      ]
     },
     "execution_count": 11,
     "metadata": {},
     "output_type": "execute_result"
    }
   ],
   "source": [
    "CAData.shape"
   ]
  },
  {
   "cell_type": "markdown",
   "metadata": {
    "collapsed": true
   },
   "source": [
    "## Answer to Questions:"
   ]
  },
  {
   "cell_type": "markdown",
   "metadata": {
    "collapsed": true
   },
   "source": [
    "### 1) Comparing ACDF_ILEUS vs MI_NPOA to see if there is a higher rate of MI for patients that undergo ACDF_ILEUS.\n"
   ]
  },
  {
   "cell_type": "code",
   "execution_count": 12,
   "metadata": {
    "collapsed": false
   },
   "outputs": [
    {
     "data": {
      "text/html": [
       "<div>\n",
       "<table border=\"1\" class=\"dataframe\">\n",
       "  <thead>\n",
       "    <tr style=\"text-align: right;\">\n",
       "      <th>MI_NPOA</th>\n",
       "      <th>0.0</th>\n",
       "      <th>1.0</th>\n",
       "    </tr>\n",
       "    <tr>\n",
       "      <th>ACDF_ILEUS</th>\n",
       "      <th></th>\n",
       "      <th></th>\n",
       "    </tr>\n",
       "  </thead>\n",
       "  <tbody>\n",
       "    <tr>\n",
       "      <th>0.0</th>\n",
       "      <td>305052</td>\n",
       "      <td>2862</td>\n",
       "    </tr>\n",
       "    <tr>\n",
       "      <th>1.0</th>\n",
       "      <td>203</td>\n",
       "      <td>2</td>\n",
       "    </tr>\n",
       "  </tbody>\n",
       "</table>\n",
       "</div>"
      ],
      "text/plain": [
       "MI_NPOA        0.0   1.0\n",
       "ACDF_ILEUS              \n",
       "0.0         305052  2862\n",
       "1.0            203     2"
      ]
     },
     "execution_count": 12,
     "metadata": {},
     "output_type": "execute_result"
    }
   ],
   "source": [
    "ct_ACDF_MI = pd.crosstab(CAData.ACDF_ILEUS,CAData.MI_NPOA); ct_ACDF_MI"
   ]
  },
  {
   "cell_type": "code",
   "execution_count": 13,
   "metadata": {
    "collapsed": false
   },
   "outputs": [
    {
     "data": {
      "text/html": [
       "<div>\n",
       "<table border=\"1\" class=\"dataframe\">\n",
       "  <thead>\n",
       "    <tr style=\"text-align: right;\">\n",
       "      <th>MI_NPOA</th>\n",
       "      <th>0.0</th>\n",
       "      <th>1.0</th>\n",
       "    </tr>\n",
       "    <tr>\n",
       "      <th>ACDF_ILEUS</th>\n",
       "      <th></th>\n",
       "      <th></th>\n",
       "    </tr>\n",
       "  </thead>\n",
       "  <tbody>\n",
       "    <tr>\n",
       "      <th>0.0</th>\n",
       "      <td>0.999335</td>\n",
       "      <td>0.999302</td>\n",
       "    </tr>\n",
       "    <tr>\n",
       "      <th>1.0</th>\n",
       "      <td>0.000665</td>\n",
       "      <td>0.000698</td>\n",
       "    </tr>\n",
       "  </tbody>\n",
       "</table>\n",
       "</div>"
      ],
      "text/plain": [
       "MI_NPOA          0.0       1.0\n",
       "ACDF_ILEUS                    \n",
       "0.0         0.999335  0.999302\n",
       "1.0         0.000665  0.000698"
      ]
     },
     "execution_count": 13,
     "metadata": {},
     "output_type": "execute_result"
    }
   ],
   "source": [
    "pd.crosstab(CAData.ACDF_ILEUS,CAData.MI_NPOA).apply(lambda x: x/x.sum(), 0)\n"
   ]
  },
  {
   "cell_type": "code",
   "execution_count": 14,
   "metadata": {
    "collapsed": false
   },
   "outputs": [
    {
     "name": "stdout",
     "output_type": "stream",
     "text": [
      "('Odds ratio:', 1.0501182472555277)\n"
     ]
    }
   ],
   "source": [
    "print('Odds ratio:', stats.fisher_exact(ct_ACDF_MI)[0])\n"
   ]
  },
  {
   "cell_type": "markdown",
   "metadata": {},
   "source": [
    "### 2) Comparing CLAM_ILEUS vs MI_NPOA to see if there is a higher rate of MI for patients that undergo CLAM_ILEUS.\n"
   ]
  },
  {
   "cell_type": "code",
   "execution_count": 15,
   "metadata": {
    "collapsed": false
   },
   "outputs": [
    {
     "data": {
      "text/html": [
       "<div>\n",
       "<table border=\"1\" class=\"dataframe\">\n",
       "  <thead>\n",
       "    <tr style=\"text-align: right;\">\n",
       "      <th>MI_NPOA</th>\n",
       "      <th>0.0</th>\n",
       "      <th>1.0</th>\n",
       "    </tr>\n",
       "    <tr>\n",
       "      <th>CLAM_ILEUS</th>\n",
       "      <th></th>\n",
       "      <th></th>\n",
       "    </tr>\n",
       "  </thead>\n",
       "  <tbody>\n",
       "    <tr>\n",
       "      <th>0.0</th>\n",
       "      <td>305091</td>\n",
       "      <td>2861</td>\n",
       "    </tr>\n",
       "    <tr>\n",
       "      <th>1.0</th>\n",
       "      <td>164</td>\n",
       "      <td>3</td>\n",
       "    </tr>\n",
       "  </tbody>\n",
       "</table>\n",
       "</div>"
      ],
      "text/plain": [
       "MI_NPOA        0.0   1.0\n",
       "CLAM_ILEUS              \n",
       "0.0         305091  2861\n",
       "1.0            164     3"
      ]
     },
     "execution_count": 15,
     "metadata": {},
     "output_type": "execute_result"
    }
   ],
   "source": [
    "ct_CLAM_MI = pd.crosstab(CAData.CLAM_ILEUS,CAData.MI_NPOA); ct_CLAM_MI"
   ]
  },
  {
   "cell_type": "code",
   "execution_count": 16,
   "metadata": {
    "collapsed": false
   },
   "outputs": [
    {
     "data": {
      "text/html": [
       "<div>\n",
       "<table border=\"1\" class=\"dataframe\">\n",
       "  <thead>\n",
       "    <tr style=\"text-align: right;\">\n",
       "      <th>MI_NPOA</th>\n",
       "      <th>0.0</th>\n",
       "      <th>1.0</th>\n",
       "    </tr>\n",
       "    <tr>\n",
       "      <th>CLAM_ILEUS</th>\n",
       "      <th></th>\n",
       "      <th></th>\n",
       "    </tr>\n",
       "  </thead>\n",
       "  <tbody>\n",
       "    <tr>\n",
       "      <th>0.0</th>\n",
       "      <td>0.999463</td>\n",
       "      <td>0.998953</td>\n",
       "    </tr>\n",
       "    <tr>\n",
       "      <th>1.0</th>\n",
       "      <td>0.000537</td>\n",
       "      <td>0.001047</td>\n",
       "    </tr>\n",
       "  </tbody>\n",
       "</table>\n",
       "</div>"
      ],
      "text/plain": [
       "MI_NPOA          0.0       1.0\n",
       "CLAM_ILEUS                    \n",
       "0.0         0.999463  0.998953\n",
       "1.0         0.000537  0.001047"
      ]
     },
     "execution_count": 16,
     "metadata": {},
     "output_type": "execute_result"
    }
   ],
   "source": [
    "pd.crosstab(CAData.CLAM_ILEUS,CAData.MI_NPOA).apply(lambda x: x/x.sum(), 0)\n"
   ]
  },
  {
   "cell_type": "code",
   "execution_count": 17,
   "metadata": {
    "collapsed": false
   },
   "outputs": [
    {
     "name": "stdout",
     "output_type": "stream",
     "text": [
      "('Odds ratio:', 1.9506930887204712)\n"
     ]
    }
   ],
   "source": [
    "print('Odds ratio:', stats.fisher_exact(ct_CLAM_MI)[0])\n"
   ]
  },
  {
   "cell_type": "markdown",
   "metadata": {},
   "source": [
    "### 3) Comparing LONG_ILEUS vs MI_NPOA to see if there is a higher rate of MI for patients that undergo LONG_ILEUS.\n"
   ]
  },
  {
   "cell_type": "code",
   "execution_count": 18,
   "metadata": {
    "collapsed": false
   },
   "outputs": [
    {
     "data": {
      "text/html": [
       "<div>\n",
       "<table border=\"1\" class=\"dataframe\">\n",
       "  <thead>\n",
       "    <tr style=\"text-align: right;\">\n",
       "      <th>MI_NPOA</th>\n",
       "      <th>0.0</th>\n",
       "      <th>1.0</th>\n",
       "    </tr>\n",
       "    <tr>\n",
       "      <th>LONG_ILEUS</th>\n",
       "      <th></th>\n",
       "      <th></th>\n",
       "    </tr>\n",
       "  </thead>\n",
       "  <tbody>\n",
       "    <tr>\n",
       "      <th>0.0</th>\n",
       "      <td>303595</td>\n",
       "      <td>2853</td>\n",
       "    </tr>\n",
       "    <tr>\n",
       "      <th>1.0</th>\n",
       "      <td>1660</td>\n",
       "      <td>11</td>\n",
       "    </tr>\n",
       "  </tbody>\n",
       "</table>\n",
       "</div>"
      ],
      "text/plain": [
       "MI_NPOA        0.0   1.0\n",
       "LONG_ILEUS              \n",
       "0.0         303595  2853\n",
       "1.0           1660    11"
      ]
     },
     "execution_count": 18,
     "metadata": {},
     "output_type": "execute_result"
    }
   ],
   "source": [
    "ct_LONG_MI = pd.crosstab(CAData.LONG_ILEUS,CAData.MI_NPOA); ct_LONG_MI"
   ]
  },
  {
   "cell_type": "code",
   "execution_count": 19,
   "metadata": {
    "collapsed": false
   },
   "outputs": [
    {
     "data": {
      "text/html": [
       "<div>\n",
       "<table border=\"1\" class=\"dataframe\">\n",
       "  <thead>\n",
       "    <tr style=\"text-align: right;\">\n",
       "      <th>MI_NPOA</th>\n",
       "      <th>0.0</th>\n",
       "      <th>1.0</th>\n",
       "    </tr>\n",
       "    <tr>\n",
       "      <th>LONG_ILEUS</th>\n",
       "      <th></th>\n",
       "      <th></th>\n",
       "    </tr>\n",
       "  </thead>\n",
       "  <tbody>\n",
       "    <tr>\n",
       "      <th>0.0</th>\n",
       "      <td>0.994562</td>\n",
       "      <td>0.996159</td>\n",
       "    </tr>\n",
       "    <tr>\n",
       "      <th>1.0</th>\n",
       "      <td>0.005438</td>\n",
       "      <td>0.003841</td>\n",
       "    </tr>\n",
       "  </tbody>\n",
       "</table>\n",
       "</div>"
      ],
      "text/plain": [
       "MI_NPOA          0.0       1.0\n",
       "LONG_ILEUS                    \n",
       "0.0         0.994562  0.996159\n",
       "1.0         0.005438  0.003841"
      ]
     },
     "execution_count": 19,
     "metadata": {},
     "output_type": "execute_result"
    }
   ],
   "source": [
    "pd.crosstab(CAData.LONG_ILEUS,CAData.MI_NPOA).apply(lambda x: x/x.sum(), 0)\n"
   ]
  },
  {
   "cell_type": "code",
   "execution_count": 20,
   "metadata": {
    "collapsed": false
   },
   "outputs": [
    {
     "name": "stdout",
     "output_type": "stream",
     "text": [
      "('Odds ratio:', 0.70514339165283635)\n"
     ]
    }
   ],
   "source": [
    "print('Odds ratio:', stats.fisher_exact(ct_LONG_MI)[0])\n"
   ]
  },
  {
   "cell_type": "markdown",
   "metadata": {},
   "source": [
    "### 4) Comparing SHORT_ILEUS vs MI_NPOA to see if there is a higher rate of MI for patients that undergo SHORT_ILEUS.\n"
   ]
  },
  {
   "cell_type": "code",
   "execution_count": 21,
   "metadata": {
    "collapsed": false
   },
   "outputs": [
    {
     "data": {
      "text/html": [
       "<div>\n",
       "<table border=\"1\" class=\"dataframe\">\n",
       "  <thead>\n",
       "    <tr style=\"text-align: right;\">\n",
       "      <th>MI_NPOA</th>\n",
       "      <th>0.0</th>\n",
       "      <th>1.0</th>\n",
       "    </tr>\n",
       "    <tr>\n",
       "      <th>SHORT_ILEUS</th>\n",
       "      <th></th>\n",
       "      <th></th>\n",
       "    </tr>\n",
       "  </thead>\n",
       "  <tbody>\n",
       "    <tr>\n",
       "      <th>0.0</th>\n",
       "      <td>301494</td>\n",
       "      <td>2843</td>\n",
       "    </tr>\n",
       "    <tr>\n",
       "      <th>1.0</th>\n",
       "      <td>3761</td>\n",
       "      <td>21</td>\n",
       "    </tr>\n",
       "  </tbody>\n",
       "</table>\n",
       "</div>"
      ],
      "text/plain": [
       "MI_NPOA         0.0   1.0\n",
       "SHORT_ILEUS              \n",
       "0.0          301494  2843\n",
       "1.0            3761    21"
      ]
     },
     "execution_count": 21,
     "metadata": {},
     "output_type": "execute_result"
    }
   ],
   "source": [
    "ct_SHORT_MI = pd.crosstab(CAData.SHORT_ILEUS,CAData.MI_NPOA); ct_SHORT_MI"
   ]
  },
  {
   "cell_type": "code",
   "execution_count": 22,
   "metadata": {
    "collapsed": false
   },
   "outputs": [
    {
     "data": {
      "text/html": [
       "<div>\n",
       "<table border=\"1\" class=\"dataframe\">\n",
       "  <thead>\n",
       "    <tr style=\"text-align: right;\">\n",
       "      <th>MI_NPOA</th>\n",
       "      <th>0.0</th>\n",
       "      <th>1.0</th>\n",
       "    </tr>\n",
       "    <tr>\n",
       "      <th>SHORT_ILEUS</th>\n",
       "      <th></th>\n",
       "      <th></th>\n",
       "    </tr>\n",
       "  </thead>\n",
       "  <tbody>\n",
       "    <tr>\n",
       "      <th>0.0</th>\n",
       "      <td>0.987679</td>\n",
       "      <td>0.992668</td>\n",
       "    </tr>\n",
       "    <tr>\n",
       "      <th>1.0</th>\n",
       "      <td>0.012321</td>\n",
       "      <td>0.007332</td>\n",
       "    </tr>\n",
       "  </tbody>\n",
       "</table>\n",
       "</div>"
      ],
      "text/plain": [
       "MI_NPOA           0.0       1.0\n",
       "SHORT_ILEUS                    \n",
       "0.0          0.987679  0.992668\n",
       "1.0          0.012321  0.007332"
      ]
     },
     "execution_count": 22,
     "metadata": {},
     "output_type": "execute_result"
    }
   ],
   "source": [
    "pd.crosstab(CAData.SHORT_ILEUS,CAData.MI_NPOA).apply(lambda x: x/x.sum(), 0)\n"
   ]
  },
  {
   "cell_type": "code",
   "execution_count": 23,
   "metadata": {
    "collapsed": false
   },
   "outputs": [
    {
     "name": "stdout",
     "output_type": "stream",
     "text": [
      "('Odds ratio:', 0.59213096852819491)\n"
     ]
    }
   ],
   "source": [
    "print('Odds ratio:', stats.fisher_exact(ct_SHORT_MI)[0])\n"
   ]
  },
  {
   "cell_type": "markdown",
   "metadata": {},
   "source": [
    "### 5). Comparing ALIF_ILEUS vs MI_NPOA to see if there is a higher rate of MI for patients that undergo ALIF_ILEUS."
   ]
  },
  {
   "cell_type": "code",
   "execution_count": 24,
   "metadata": {
    "collapsed": false
   },
   "outputs": [
    {
     "data": {
      "text/html": [
       "<div>\n",
       "<table border=\"1\" class=\"dataframe\">\n",
       "  <thead>\n",
       "    <tr style=\"text-align: right;\">\n",
       "      <th>MI_NPOA</th>\n",
       "      <th>0.0</th>\n",
       "      <th>1.0</th>\n",
       "    </tr>\n",
       "    <tr>\n",
       "      <th>ALIF_ILEUS</th>\n",
       "      <th></th>\n",
       "      <th></th>\n",
       "    </tr>\n",
       "  </thead>\n",
       "  <tbody>\n",
       "    <tr>\n",
       "      <th>0.0</th>\n",
       "      <td>302936</td>\n",
       "      <td>2855</td>\n",
       "    </tr>\n",
       "    <tr>\n",
       "      <th>1.0</th>\n",
       "      <td>2319</td>\n",
       "      <td>9</td>\n",
       "    </tr>\n",
       "  </tbody>\n",
       "</table>\n",
       "</div>"
      ],
      "text/plain": [
       "MI_NPOA        0.0   1.0\n",
       "ALIF_ILEUS              \n",
       "0.0         302936  2855\n",
       "1.0           2319     9"
      ]
     },
     "execution_count": 24,
     "metadata": {},
     "output_type": "execute_result"
    }
   ],
   "source": [
    "ct_ALIF_MI = pd.crosstab(CAData.ALIF_ILEUS,CAData.MI_NPOA); ct_ALIF_MI"
   ]
  },
  {
   "cell_type": "code",
   "execution_count": 25,
   "metadata": {
    "collapsed": false
   },
   "outputs": [
    {
     "data": {
      "text/html": [
       "<div>\n",
       "<table border=\"1\" class=\"dataframe\">\n",
       "  <thead>\n",
       "    <tr style=\"text-align: right;\">\n",
       "      <th>MI_NPOA</th>\n",
       "      <th>0.0</th>\n",
       "      <th>1.0</th>\n",
       "    </tr>\n",
       "    <tr>\n",
       "      <th>ALIF_ILEUS</th>\n",
       "      <th></th>\n",
       "      <th></th>\n",
       "    </tr>\n",
       "  </thead>\n",
       "  <tbody>\n",
       "    <tr>\n",
       "      <th>0.0</th>\n",
       "      <td>0.992403</td>\n",
       "      <td>0.996858</td>\n",
       "    </tr>\n",
       "    <tr>\n",
       "      <th>1.0</th>\n",
       "      <td>0.007597</td>\n",
       "      <td>0.003142</td>\n",
       "    </tr>\n",
       "  </tbody>\n",
       "</table>\n",
       "</div>"
      ],
      "text/plain": [
       "MI_NPOA          0.0       1.0\n",
       "ALIF_ILEUS                    \n",
       "0.0         0.992403  0.996858\n",
       "1.0         0.007597  0.003142"
      ]
     },
     "execution_count": 25,
     "metadata": {},
     "output_type": "execute_result"
    }
   ],
   "source": [
    "pd.crosstab(CAData.ALIF_ILEUS,CAData.MI_NPOA).apply(lambda x: x/x.sum(), 0)\n"
   ]
  },
  {
   "cell_type": "code",
   "execution_count": 26,
   "metadata": {
    "collapsed": false
   },
   "outputs": [
    {
     "name": "stdout",
     "output_type": "stream",
     "text": [
      "('Odds ratio:', 0.41180018260784851)\n"
     ]
    }
   ],
   "source": [
    "print('Odds ratio:', stats.fisher_exact(ct_ALIF_MI)[0])"
   ]
  },
  {
   "cell_type": "markdown",
   "metadata": {},
   "source": [
    "### 6). Comparing PLIF_ILEUS vs MI_NPOA to see if there is a higher rate of MI for patients that undergo PLIF_ILEUS."
   ]
  },
  {
   "cell_type": "code",
   "execution_count": 27,
   "metadata": {
    "collapsed": false
   },
   "outputs": [
    {
     "data": {
      "text/html": [
       "<div>\n",
       "<table border=\"1\" class=\"dataframe\">\n",
       "  <thead>\n",
       "    <tr style=\"text-align: right;\">\n",
       "      <th>MI_NPOA</th>\n",
       "      <th>0.0</th>\n",
       "      <th>1.0</th>\n",
       "    </tr>\n",
       "    <tr>\n",
       "      <th>PLIF_ILEUS</th>\n",
       "      <th></th>\n",
       "      <th></th>\n",
       "    </tr>\n",
       "  </thead>\n",
       "  <tbody>\n",
       "    <tr>\n",
       "      <th>0.0</th>\n",
       "      <td>304465</td>\n",
       "      <td>2863</td>\n",
       "    </tr>\n",
       "    <tr>\n",
       "      <th>1.0</th>\n",
       "      <td>790</td>\n",
       "      <td>1</td>\n",
       "    </tr>\n",
       "  </tbody>\n",
       "</table>\n",
       "</div>"
      ],
      "text/plain": [
       "MI_NPOA        0.0   1.0\n",
       "PLIF_ILEUS              \n",
       "0.0         304465  2863\n",
       "1.0            790     1"
      ]
     },
     "execution_count": 27,
     "metadata": {},
     "output_type": "execute_result"
    }
   ],
   "source": [
    "ct_PLIF_MI = pd.crosstab(CAData.PLIF_ILEUS,CAData.MI_NPOA); ct_PLIF_MI"
   ]
  },
  {
   "cell_type": "code",
   "execution_count": 28,
   "metadata": {
    "collapsed": false
   },
   "outputs": [
    {
     "data": {
      "text/html": [
       "<div>\n",
       "<table border=\"1\" class=\"dataframe\">\n",
       "  <thead>\n",
       "    <tr style=\"text-align: right;\">\n",
       "      <th>MI_NPOA</th>\n",
       "      <th>0.0</th>\n",
       "      <th>1.0</th>\n",
       "    </tr>\n",
       "    <tr>\n",
       "      <th>PLIF_ILEUS</th>\n",
       "      <th></th>\n",
       "      <th></th>\n",
       "    </tr>\n",
       "  </thead>\n",
       "  <tbody>\n",
       "    <tr>\n",
       "      <th>0.0</th>\n",
       "      <td>0.997412</td>\n",
       "      <td>0.999651</td>\n",
       "    </tr>\n",
       "    <tr>\n",
       "      <th>1.0</th>\n",
       "      <td>0.002588</td>\n",
       "      <td>0.000349</td>\n",
       "    </tr>\n",
       "  </tbody>\n",
       "</table>\n",
       "</div>"
      ],
      "text/plain": [
       "MI_NPOA          0.0       1.0\n",
       "PLIF_ILEUS                    \n",
       "0.0         0.997412  0.999651\n",
       "1.0         0.002588  0.000349"
      ]
     },
     "execution_count": 28,
     "metadata": {},
     "output_type": "execute_result"
    }
   ],
   "source": [
    "pd.crosstab(CAData.PLIF_ILEUS,CAData.MI_NPOA).apply(lambda x: x/x.sum(), 0)\n"
   ]
  },
  {
   "cell_type": "code",
   "execution_count": 29,
   "metadata": {
    "collapsed": false
   },
   "outputs": [
    {
     "name": "stdout",
     "output_type": "stream",
     "text": [
      "('Odds ratio:', 0.1346135990839033)\n"
     ]
    }
   ],
   "source": [
    "print('Odds ratio:', stats.fisher_exact(ct_PLIF_MI)[0])"
   ]
  }
 ],
 "metadata": {
  "anaconda-cloud": {},
  "kernelspec": {
   "display_name": "Python [Root]",
   "language": "python",
   "name": "Python [Root]"
  },
  "language_info": {
   "codemirror_mode": {
    "name": "ipython",
    "version": 2
   },
   "file_extension": ".py",
   "mimetype": "text/x-python",
   "name": "python",
   "nbconvert_exporter": "python",
   "pygments_lexer": "ipython2",
   "version": "2.7.12"
  }
 },
 "nbformat": 4,
 "nbformat_minor": 0
}
